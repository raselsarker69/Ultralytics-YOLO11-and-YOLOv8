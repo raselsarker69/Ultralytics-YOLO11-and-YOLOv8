{
 "cells": [
  {
   "cell_type": "markdown",
   "id": "2909f1d1-128f-4aa5-a62b-0d53cc461e08",
   "metadata": {},
   "source": [
    "## 10-Day YOLOv8 Mastery: A Comprehensive Roadmap to Object Detection."
   ]
  },
  {
   "cell_type": "markdown",
   "id": "e7b352a6-6a92-487f-ae73-96945719f94e",
   "metadata": {},
   "source": [
    "<div style=\"border: 2px solid red; padding: 15px; background-color: #ffe6e6; border-radius: 10px;\">\n",
    "\n",
    "1. **YOLOv8 Demo | Object Detection, Segmentation, Pose Estimation**\n",
    "2. **YOLOv8 Custom Training for Object Detection**\n",
    "3. **YOLOv8 Instance Segmentation on Custom Dataset**\n",
    "4. **YOLOv8 Image Classification on Custom Dataset**\n",
    "5. **Auto Image Segmentation using YOLOv8 and SAM2**\n",
    "6. **How to Perform Object Tracking using YOLOv8**\n",
    "7. **Sign Language Detection using YOLOv8 | Complete Tutorial 🚀**\n",
    "8. **Helmet Detection using YOLOv8 Complete Tutorial 👷‍♂️**\n",
    "9. **Facial Emotion Detection using YOLOv8 - Part 1**\n",
    "10. **Facial Emotion Detection using YOLOv8 - Part 2**\n",
    "\n",
    "</div>\n"
   ]
  },
  {
   "cell_type": "code",
   "execution_count": null,
   "id": "13d17775-9a19-49ce-94de-0a93808e054c",
   "metadata": {},
   "outputs": [],
   "source": []
  }
 ],
 "metadata": {
  "kernelspec": {
   "display_name": "Python 3 (ipykernel)",
   "language": "python",
   "name": "python3"
  },
  "language_info": {
   "codemirror_mode": {
    "name": "ipython",
    "version": 3
   },
   "file_extension": ".py",
   "mimetype": "text/x-python",
   "name": "python",
   "nbconvert_exporter": "python",
   "pygments_lexer": "ipython3",
   "version": "3.11.8"
  }
 },
 "nbformat": 4,
 "nbformat_minor": 5
}
